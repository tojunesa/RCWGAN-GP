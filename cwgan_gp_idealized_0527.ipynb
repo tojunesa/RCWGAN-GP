{
 "cells": [
  {
   "cell_type": "code",
   "execution_count": 1,
   "metadata": {},
   "outputs": [],
   "source": [
    "import keras.backend as K\n",
    "\n",
    "import tensorflow as tf\n",
    "\n",
    "from keras.activations import relu\n",
    "from keras.initializers import RandomNormal\n",
    "from keras.layers import Input, Dense, Reshape, Flatten, Dropout, multiply\n",
    "from keras.layers import BatchNormalization, Activation, Embedding, ZeroPadding2D, Concatenate, Conv2DTranspose\n",
    "from keras.layers.advanced_activations import LeakyReLU\n",
    "from keras.layers.convolutional import UpSampling2D, Conv2D\n",
    "from keras.models import Sequential, Model\n",
    "from keras.optimizers import Adam\n",
    "from keras import regularizers\n",
    "\n",
    "import matplotlib.pyplot as plt\n",
    "\n",
    "import sys\n",
    "import os\n",
    "\n",
    "import numpy as np\n",
    "import PIL"
   ]
  },
  {
   "cell_type": "code",
   "execution_count": 2,
   "metadata": {},
   "outputs": [],
   "source": [
    "img_rows = 256\n",
    "img_cols = 256\n",
    "channels = 1\n",
    "img_shape = (img_rows, img_cols, channels)\n",
    "latent_dim = 100\n",
    "\n",
    "lr_d = 2e-5\n",
    "lr_g = 5e-6\n",
    "optimizer_d = Adam(lr = lr_d, beta_1 = 0.0, beta_2 = 0.9)\n",
    "optimizer_g = Adam(lr = lr_g, beta_1 = 0.0, beta_2 = 0.9)"
   ]
  },
  {
   "cell_type": "code",
   "execution_count": 3,
   "metadata": {},
   "outputs": [],
   "source": [
    "def critic():\n",
    "    in_img = Input(shape = img_shape)\n",
    "    in_label = Input(shape = (1,))\n",
    "    ll = Dense(256*256)(in_label)\n",
    "    ll = Reshape(img_shape)(ll)\n",
    "    merge = Concatenate()([in_img, ll])\n",
    "    \n",
    "    fe = Conv2D(8, kernel_size=5, strides=2, padding=\"same\")(merge)\n",
    "    fe = LeakyReLU(alpha = 0.2)(fe)\n",
    "    fe = Conv2D(16, kernel_size=5, strides=2, padding=\"same\")(fe)\n",
    "    fe = LeakyReLU(alpha = 0.2)(fe)\n",
    "    fe = Conv2D(32, kernel_size=5, strides=2, padding=\"same\")(fe)\n",
    "    fe = LeakyReLU(alpha = 0.2)(fe)\n",
    "    fe = Conv2D(64, kernel_size=5, strides=2, padding=\"same\")(fe)\n",
    "    fe = LeakyReLU(alpha = 0.2)(fe)\n",
    "    fe = Conv2D(128, kernel_size=5, strides=2, padding=\"same\")(fe)\n",
    "    fe = LeakyReLU(alpha = 0.2)(fe)\n",
    "    fe = Conv2D(256, kernel_size=5, strides=2, padding=\"same\")(fe)\n",
    "    fe = LeakyReLU(alpha = 0.2)(fe)\n",
    "    fe = Conv2D(512, kernel_size=5, strides=2, padding=\"same\")(fe)\n",
    "    fe = LeakyReLU(alpha = 0.2)(fe)\n",
    "    fe = Flatten()(fe)\n",
    "    fe = Dense(512)(fe)\n",
    "    fe = LeakyReLU(alpha = 0.2)(fe)\n",
    "    \n",
    "    out_layer = Dense(1, kernel_regularizer=regularizers.l2(0.1))(fe)\n",
    "    \n",
    "    return Model([in_img, in_label], out_layer)"
   ]
  },
  {
   "cell_type": "code",
   "execution_count": 4,
   "metadata": {},
   "outputs": [],
   "source": [
    "def generator():\n",
    "    noise = Input(shape = (latent_dim,))\n",
    "    in_label = Input(shape = (1,))\n",
    "    \n",
    "    gg = Dense(128*8*8)(noise)\n",
    "    gg = Reshape((8,8,128))(gg)\n",
    "    ll = Dense(8*8*16)(in_label)\n",
    "    ll = Reshape((8,8,16))(ll)\n",
    "    merge = Concatenate()([gg,ll])\n",
    "    \n",
    "    gen = Conv2DTranspose(128, kernel_size = 5, strides = 2, padding = 'same')(merge)\n",
    "    gen = LeakyReLU(alpha = 0.2)(gen)\n",
    "    gen = Conv2DTranspose(64, kernel_size = 5, strides = 2, padding = 'same')(gen)\n",
    "    gen = LeakyReLU(alpha = 0.2)(gen)\n",
    "    gen = Conv2DTranspose(32, kernel_size = 5, strides = 2, padding = 'same')(gen)\n",
    "    gen = LeakyReLU(alpha = 0.2)(gen)\n",
    "    gen = Conv2DTranspose(16, kernel_size = 5, strides = 2, padding = 'same')(gen)\n",
    "    gen = LeakyReLU(alpha = 0.2)(gen)\n",
    "    gen = Conv2DTranspose(8, kernel_size = 5, strides = 2, padding = 'same')(gen)\n",
    "    gen = LeakyReLU(alpha = 0.2)(gen)\n",
    "\n",
    "    \n",
    "    gen = Conv2D(8, kernel_size =3, activation = 'tanh', padding = 'same')(gen)\n",
    "    out_layer = Conv2D(1, kernel_size = 3, activation = 'tanh', padding = 'same')(gen)\n",
    "    \n",
    "    \n",
    "    return Model([noise,in_label], out_layer)"
   ]
  },
  {
   "cell_type": "code",
   "execution_count": 5,
   "metadata": {},
   "outputs": [
    {
     "name": "stdout",
     "output_type": "stream",
     "text": [
      "Model: \"model\"\n",
      "__________________________________________________________________________________________________\n",
      "Layer (type)                    Output Shape         Param #     Connected to                     \n",
      "==================================================================================================\n",
      "input_2 (InputLayer)            [(None, 1)]          0                                            \n",
      "__________________________________________________________________________________________________\n",
      "dense (Dense)                   (None, 65536)        131072      input_2[0][0]                    \n",
      "__________________________________________________________________________________________________\n",
      "input_1 (InputLayer)            [(None, 256, 256, 1) 0                                            \n",
      "__________________________________________________________________________________________________\n",
      "reshape (Reshape)               (None, 256, 256, 1)  0           dense[0][0]                      \n",
      "__________________________________________________________________________________________________\n",
      "concatenate (Concatenate)       (None, 256, 256, 2)  0           input_1[0][0]                    \n",
      "                                                                 reshape[0][0]                    \n",
      "__________________________________________________________________________________________________\n",
      "conv2d (Conv2D)                 (None, 128, 128, 8)  408         concatenate[0][0]                \n",
      "__________________________________________________________________________________________________\n",
      "leaky_re_lu (LeakyReLU)         (None, 128, 128, 8)  0           conv2d[0][0]                     \n",
      "__________________________________________________________________________________________________\n",
      "conv2d_1 (Conv2D)               (None, 64, 64, 16)   3216        leaky_re_lu[0][0]                \n",
      "__________________________________________________________________________________________________\n",
      "leaky_re_lu_1 (LeakyReLU)       (None, 64, 64, 16)   0           conv2d_1[0][0]                   \n",
      "__________________________________________________________________________________________________\n",
      "conv2d_2 (Conv2D)               (None, 32, 32, 32)   12832       leaky_re_lu_1[0][0]              \n",
      "__________________________________________________________________________________________________\n",
      "leaky_re_lu_2 (LeakyReLU)       (None, 32, 32, 32)   0           conv2d_2[0][0]                   \n",
      "__________________________________________________________________________________________________\n",
      "conv2d_3 (Conv2D)               (None, 16, 16, 64)   51264       leaky_re_lu_2[0][0]              \n",
      "__________________________________________________________________________________________________\n",
      "leaky_re_lu_3 (LeakyReLU)       (None, 16, 16, 64)   0           conv2d_3[0][0]                   \n",
      "__________________________________________________________________________________________________\n",
      "conv2d_4 (Conv2D)               (None, 8, 8, 128)    204928      leaky_re_lu_3[0][0]              \n",
      "__________________________________________________________________________________________________\n",
      "leaky_re_lu_4 (LeakyReLU)       (None, 8, 8, 128)    0           conv2d_4[0][0]                   \n",
      "__________________________________________________________________________________________________\n",
      "conv2d_5 (Conv2D)               (None, 4, 4, 256)    819456      leaky_re_lu_4[0][0]              \n",
      "__________________________________________________________________________________________________\n",
      "leaky_re_lu_5 (LeakyReLU)       (None, 4, 4, 256)    0           conv2d_5[0][0]                   \n",
      "__________________________________________________________________________________________________\n",
      "conv2d_6 (Conv2D)               (None, 2, 2, 512)    3277312     leaky_re_lu_5[0][0]              \n",
      "__________________________________________________________________________________________________\n",
      "leaky_re_lu_6 (LeakyReLU)       (None, 2, 2, 512)    0           conv2d_6[0][0]                   \n",
      "__________________________________________________________________________________________________\n",
      "flatten (Flatten)               (None, 2048)         0           leaky_re_lu_6[0][0]              \n",
      "__________________________________________________________________________________________________\n",
      "dense_1 (Dense)                 (None, 512)          1049088     flatten[0][0]                    \n",
      "__________________________________________________________________________________________________\n",
      "leaky_re_lu_7 (LeakyReLU)       (None, 512)          0           dense_1[0][0]                    \n",
      "__________________________________________________________________________________________________\n",
      "dense_2 (Dense)                 (None, 1)            513         leaky_re_lu_7[0][0]              \n",
      "==================================================================================================\n",
      "Total params: 5,550,089\n",
      "Trainable params: 5,550,089\n",
      "Non-trainable params: 0\n",
      "__________________________________________________________________________________________________\n"
     ]
    }
   ],
   "source": [
    "net_d = critic()\n",
    "net_d.summary()"
   ]
  },
  {
   "cell_type": "code",
   "execution_count": 6,
   "metadata": {},
   "outputs": [
    {
     "name": "stdout",
     "output_type": "stream",
     "text": [
      "Model: \"model_1\"\n",
      "__________________________________________________________________________________________________\n",
      "Layer (type)                    Output Shape         Param #     Connected to                     \n",
      "==================================================================================================\n",
      "input_3 (InputLayer)            [(None, 100)]        0                                            \n",
      "__________________________________________________________________________________________________\n",
      "input_4 (InputLayer)            [(None, 1)]          0                                            \n",
      "__________________________________________________________________________________________________\n",
      "dense_3 (Dense)                 (None, 8192)         827392      input_3[0][0]                    \n",
      "__________________________________________________________________________________________________\n",
      "dense_4 (Dense)                 (None, 1024)         2048        input_4[0][0]                    \n",
      "__________________________________________________________________________________________________\n",
      "reshape_1 (Reshape)             (None, 8, 8, 128)    0           dense_3[0][0]                    \n",
      "__________________________________________________________________________________________________\n",
      "reshape_2 (Reshape)             (None, 8, 8, 16)     0           dense_4[0][0]                    \n",
      "__________________________________________________________________________________________________\n",
      "concatenate_1 (Concatenate)     (None, 8, 8, 144)    0           reshape_1[0][0]                  \n",
      "                                                                 reshape_2[0][0]                  \n",
      "__________________________________________________________________________________________________\n",
      "conv2d_transpose (Conv2DTranspo (None, 16, 16, 128)  460928      concatenate_1[0][0]              \n",
      "__________________________________________________________________________________________________\n",
      "leaky_re_lu_8 (LeakyReLU)       (None, 16, 16, 128)  0           conv2d_transpose[0][0]           \n",
      "__________________________________________________________________________________________________\n",
      "conv2d_transpose_1 (Conv2DTrans (None, 32, 32, 64)   204864      leaky_re_lu_8[0][0]              \n",
      "__________________________________________________________________________________________________\n",
      "leaky_re_lu_9 (LeakyReLU)       (None, 32, 32, 64)   0           conv2d_transpose_1[0][0]         \n",
      "__________________________________________________________________________________________________\n",
      "conv2d_transpose_2 (Conv2DTrans (None, 64, 64, 32)   51232       leaky_re_lu_9[0][0]              \n",
      "__________________________________________________________________________________________________\n",
      "leaky_re_lu_10 (LeakyReLU)      (None, 64, 64, 32)   0           conv2d_transpose_2[0][0]         \n",
      "__________________________________________________________________________________________________\n",
      "conv2d_transpose_3 (Conv2DTrans (None, 128, 128, 16) 12816       leaky_re_lu_10[0][0]             \n",
      "__________________________________________________________________________________________________\n",
      "leaky_re_lu_11 (LeakyReLU)      (None, 128, 128, 16) 0           conv2d_transpose_3[0][0]         \n",
      "__________________________________________________________________________________________________\n",
      "conv2d_transpose_4 (Conv2DTrans (None, 256, 256, 8)  3208        leaky_re_lu_11[0][0]             \n",
      "__________________________________________________________________________________________________\n",
      "leaky_re_lu_12 (LeakyReLU)      (None, 256, 256, 8)  0           conv2d_transpose_4[0][0]         \n",
      "__________________________________________________________________________________________________\n",
      "conv2d_7 (Conv2D)               (None, 256, 256, 8)  584         leaky_re_lu_12[0][0]             \n",
      "__________________________________________________________________________________________________\n",
      "conv2d_8 (Conv2D)               (None, 256, 256, 1)  73          conv2d_7[0][0]                   \n",
      "==================================================================================================\n",
      "Total params: 1,563,145\n",
      "Trainable params: 1,563,145\n",
      "Non-trainable params: 0\n",
      "__________________________________________________________________________________________________\n"
     ]
    }
   ],
   "source": [
    "net_g = generator()\n",
    "net_g.summary()"
   ]
  },
  {
   "cell_type": "code",
   "execution_count": 7,
   "metadata": {},
   "outputs": [],
   "source": [
    "def d_training(real_img, noise, label):\n",
    "    with tf.GradientTape() as tape_d:\n",
    "        fake_img = net_g([noise, label])\n",
    "        loss_real = tf.reduce_mean(net_d([real_img, label]))\n",
    "        loss_fake = tf.reduce_mean(net_d([fake_img, label]))\n",
    "        \n",
    "        with tf.GradientTape() as tape_penalty:\n",
    "            epsilon = tf.random.uniform([batch_size], 0, 1)\n",
    "            epsilon = tf.reshape(epsilon, (-1,1,1,1))\n",
    "            interpolated_img = epsilon*real_img + (1-epsilon)*fake_img\n",
    "            tape_penalty.watch(interpolated_img)\n",
    "            interpolated_out = net_d([interpolated_img, label])\n",
    "            grad_interpolated = tape_penalty.gradient(interpolated_out, interpolated_img)\n",
    "            grad_norm = K.sqrt(K.sum(K.square(grad_interpolated), axis = [1,2,3]))\n",
    "            grad_penalty = K.mean(K.square(grad_norm-1))\n",
    "        \n",
    "        loss = loss_fake - loss_real + 1*grad_penalty\n",
    "        grad_d = tape_d.gradient(loss, net_d.trainable_weights)\n",
    "        optimizer_d.apply_gradients(zip(grad_d, net_d.trainable_weights))\n",
    "    \n",
    "    return (loss_real, loss_fake, loss)"
   ]
  },
  {
   "cell_type": "code",
   "execution_count": 8,
   "metadata": {},
   "outputs": [],
   "source": [
    "def g_training(noise, label):\n",
    "    with tf.GradientTape() as tape_g:\n",
    "        gen_img = net_g([noise, label])\n",
    "        loss = -tf.reduce_mean(net_d([gen_img, label]))\n",
    "        grad_g = tape_g.gradient(loss, net_g.trainable_weights)\n",
    "        optimizer_g.apply_gradients(zip(grad_g, net_g.trainable_weights))\n",
    "    return loss"
   ]
  },
  {
   "cell_type": "code",
   "execution_count": 9,
   "metadata": {},
   "outputs": [],
   "source": [
    "def load_samples():\n",
    "    dirct_name = 'idealized micrographs/'\n",
    "    \n",
    "    train_set = []\n",
    "    for i in range(1,12):\n",
    "        subset_name = dirct_name + 'pdf' + str(i)\n",
    "        image_names = os.listdir(subset_name)\n",
    "        if '.ipynb_checkpoints' in image_names:\n",
    "            image_names.remove('.ipynb_checkpoints')\n",
    "        for item in image_names:\n",
    "            img = PIL.Image.open(subset_name+'/'+item)\n",
    "            arr = np.asarray(img)   \n",
    "            train_set.append(arr)\n",
    "                \n",
    "            \n",
    "    train_X = np.reshape(train_set, (3000*11,256,256,1))\n",
    "    \n",
    "    labels = [0.1, 0.2, 0.3, 0.4, 0.5, 0.6, 0.7, 0.8, 0.9, 1.0, 1.1]\n",
    "    \n",
    "    train_Y_l = []\n",
    "    for i in range(11):\n",
    "        train_Y_l.append(labels[i]*np.ones((3000,1)))\n",
    "        \n",
    "\n",
    "    train_Y = np.reshape(train_Y_l, (-1,1))\n",
    "        \n",
    "    return (train_X,train_Y)"
   ]
  },
  {
   "cell_type": "code",
   "execution_count": 10,
   "metadata": {},
   "outputs": [
    {
     "name": "stdout",
     "output_type": "stream",
     "text": [
      "(33000, 256, 256, 1)\n",
      "(33000, 1)\n"
     ]
    }
   ],
   "source": [
    "(train_X,train_Y) = load_samples()\n",
    "print(train_X.shape)\n",
    "print(train_Y.shape)"
   ]
  },
  {
   "cell_type": "code",
   "execution_count": 11,
   "metadata": {},
   "outputs": [],
   "source": [
    "train_X_n = (train_X.astype(np.float32) - 0.5) / 0.5"
   ]
  },
  {
   "cell_type": "code",
   "execution_count": 12,
   "metadata": {},
   "outputs": [
    {
     "name": "stdout",
     "output_type": "stream",
     "text": [
      "(3000, 256, 256, 1)\n",
      "(30000, 256, 256, 1)\n"
     ]
    }
   ],
   "source": [
    "#train and test set split\n",
    "test_X = train_X_n[5*3000:6*3000]\n",
    "train_X_split = np.concatenate((train_X_n[0:5*3000], train_X_n[6*3000:]))\n",
    "test_Y = train_Y[5*3000:6*3000]\n",
    "train_Y_split = np.concatenate((train_Y[0:5*3000], train_Y[6*3000:]))\n",
    "\n",
    "print(test_X.shape)\n",
    "print(train_X_split.shape)"
   ]
  },
  {
   "cell_type": "code",
   "execution_count": 18,
   "metadata": {},
   "outputs": [
    {
     "name": "stdout",
     "output_type": "stream",
     "text": [
      "[1.]\n",
      "[ True]\n",
      "[1.]\n"
     ]
    },
    {
     "data": {
      "image/png": "[encoded data removed]",
      "text/plain": [
       "<Figure size 432x288 with 1 Axes>"
      ]
     },
     "metadata": {
      "needs_background": "light"
     },
     "output_type": "display_data"
    }
   ],
   "source": [
    "plt.imshow(train_X_split[1],'gray')\n",
    "print(train_X_split[1][20][18])\n",
    "print(train_X[1][20][18])\n",
    "print(train_X[1][20][18].astype(np.float32))"
   ]
  },
  {
   "cell_type": "code",
   "execution_count": 13,
   "metadata": {},
   "outputs": [
    {
     "name": "stdout",
     "output_type": "stream",
     "text": [
      "0 [D loss : 0.993965] [G loss: 0.000080]\n",
      "200 [D loss : -9439.722656] [G loss: -55.513046]\n",
      "400 [D loss : -12138.750000] [G loss: -492.372986]\n",
      "600 [D loss : -10977.472656] [G loss: -2536.614746]\n",
      "800 [D loss : -7320.912109] [G loss: -4960.238770]\n",
      "1000 [D loss : -4167.177734] [G loss: -3955.082275]\n",
      "1200 [D loss : -2941.420410] [G loss: 1740.855713]\n",
      "1400 [D loss : -3777.000000] [G loss: 1447.374023]\n",
      "1600 [D loss : -3726.622314] [G loss: 1935.254028]\n",
      "1800 [D loss : -3544.000244] [G loss: 464.967072]\n",
      "2000 [D loss : -2949.681885] [G loss: -1547.033936]\n",
      "2200 [D loss : -2165.202393] [G loss: -2741.701904]\n",
      "2400 [D loss : -1763.595947] [G loss: -3240.333984]\n",
      "2600 [D loss : -2424.676025] [G loss: -2606.427002]\n",
      "2800 [D loss : -2569.311523] [G loss: -1752.738037]\n",
      "3000 [D loss : -2688.349121] [G loss: -1119.095459]\n",
      "3200 [D loss : -3251.802246] [G loss: -940.910400]\n",
      "3400 [D loss : -2967.203125] [G loss: -555.157837]\n",
      "3600 [D loss : -2763.044434] [G loss: -608.205383]\n",
      "3800 [D loss : -2582.634521] [G loss: -700.006714]\n",
      "4000 [D loss : -2581.236328] [G loss: -932.296875]\n"
     ]
    },
    {
     "ename": "KeyboardInterrupt",
     "evalue": "",
     "output_type": "error",
     "traceback": [
      "\u001b[0;31m---------------------------------------------------------------------------\u001b[0m",
      "\u001b[0;31mKeyboardInterrupt\u001b[0m                         Traceback (most recent call last)",
      "\u001b[0;32m<ipython-input-13-00d33e264557>\u001b[0m in \u001b[0;36m<module>\u001b[0;34m\u001b[0m\n\u001b[1;32m      9\u001b[0m     \u001b[0mlabels\u001b[0m \u001b[0;34m=\u001b[0m \u001b[0mtrain_Y_split\u001b[0m\u001b[0;34m[\u001b[0m\u001b[0midx\u001b[0m\u001b[0;34m]\u001b[0m\u001b[0;34m\u001b[0m\u001b[0;34m\u001b[0m\u001b[0m\n\u001b[1;32m     10\u001b[0m     \u001b[0mnoise\u001b[0m \u001b[0;34m=\u001b[0m \u001b[0mnp\u001b[0m\u001b[0;34m.\u001b[0m\u001b[0mrandom\u001b[0m\u001b[0;34m.\u001b[0m\u001b[0mnormal\u001b[0m\u001b[0;34m(\u001b[0m\u001b[0;36m0\u001b[0m\u001b[0;34m,\u001b[0m \u001b[0;36m1\u001b[0m\u001b[0;34m,\u001b[0m \u001b[0;34m(\u001b[0m\u001b[0mbatch_size\u001b[0m\u001b[0;34m,\u001b[0m \u001b[0mlatent_dim\u001b[0m\u001b[0;34m)\u001b[0m\u001b[0;34m)\u001b[0m\u001b[0;34m\u001b[0m\u001b[0;34m\u001b[0m\u001b[0m\n\u001b[0;32m---> 11\u001b[0;31m     \u001b[0merr_d_real\u001b[0m\u001b[0;34m,\u001b[0m \u001b[0merr_d_fake\u001b[0m\u001b[0;34m,\u001b[0m \u001b[0mloss_total\u001b[0m \u001b[0;34m=\u001b[0m \u001b[0md_training\u001b[0m\u001b[0;34m(\u001b[0m\u001b[0mimgs\u001b[0m\u001b[0;34m,\u001b[0m \u001b[0mnoise\u001b[0m\u001b[0;34m,\u001b[0m \u001b[0mlabels\u001b[0m\u001b[0;34m)\u001b[0m\u001b[0;34m\u001b[0m\u001b[0;34m\u001b[0m\u001b[0m\n\u001b[0m\u001b[1;32m     12\u001b[0m \u001b[0;34m\u001b[0m\u001b[0m\n\u001b[1;32m     13\u001b[0m     \u001b[0merr_g\u001b[0m \u001b[0;34m=\u001b[0m \u001b[0mg_training\u001b[0m\u001b[0;34m(\u001b[0m\u001b[0mnoise\u001b[0m\u001b[0;34m,\u001b[0m \u001b[0mlabels\u001b[0m\u001b[0;34m)\u001b[0m\u001b[0;34m\u001b[0m\u001b[0;34m\u001b[0m\u001b[0m\n",
      "\u001b[0;32m<ipython-input-7-6d8a67ca508d>\u001b[0m in \u001b[0;36md_training\u001b[0;34m(real_img, noise, label)\u001b[0m\n\u001b[1;32m      8\u001b[0m             \u001b[0mepsilon\u001b[0m \u001b[0;34m=\u001b[0m \u001b[0mtf\u001b[0m\u001b[0;34m.\u001b[0m\u001b[0mrandom\u001b[0m\u001b[0;34m.\u001b[0m\u001b[0muniform\u001b[0m\u001b[0;34m(\u001b[0m\u001b[0;34m[\u001b[0m\u001b[0mbatch_size\u001b[0m\u001b[0;34m]\u001b[0m\u001b[0;34m,\u001b[0m \u001b[0;36m0\u001b[0m\u001b[0;34m,\u001b[0m \u001b[0;36m1\u001b[0m\u001b[0;34m)\u001b[0m\u001b[0;34m\u001b[0m\u001b[0;34m\u001b[0m\u001b[0m\n\u001b[1;32m      9\u001b[0m             \u001b[0mepsilon\u001b[0m \u001b[0;34m=\u001b[0m \u001b[0mtf\u001b[0m\u001b[0;34m.\u001b[0m\u001b[0mreshape\u001b[0m\u001b[0;34m(\u001b[0m\u001b[0mepsilon\u001b[0m\u001b[0;34m,\u001b[0m \u001b[0;34m(\u001b[0m\u001b[0;34m-\u001b[0m\u001b[0;36m1\u001b[0m\u001b[0;34m,\u001b[0m\u001b[0;36m1\u001b[0m\u001b[0;34m,\u001b[0m\u001b[0;36m1\u001b[0m\u001b[0;34m,\u001b[0m\u001b[0;36m1\u001b[0m\u001b[0;34m)\u001b[0m\u001b[0;34m)\u001b[0m\u001b[0;34m\u001b[0m\u001b[0;34m\u001b[0m\u001b[0m\n\u001b[0;32m---> 10\u001b[0;31m             \u001b[0minterpolated_img\u001b[0m \u001b[0;34m=\u001b[0m \u001b[0mepsilon\u001b[0m\u001b[0;34m*\u001b[0m\u001b[0mreal_img\u001b[0m \u001b[0;34m+\u001b[0m \u001b[0;34m(\u001b[0m\u001b[0;36m1\u001b[0m\u001b[0;34m-\u001b[0m\u001b[0mepsilon\u001b[0m\u001b[0;34m)\u001b[0m\u001b[0;34m*\u001b[0m\u001b[0mfake_img\u001b[0m\u001b[0;34m\u001b[0m\u001b[0;34m\u001b[0m\u001b[0m\n\u001b[0m\u001b[1;32m     11\u001b[0m             \u001b[0mtape_penalty\u001b[0m\u001b[0;34m.\u001b[0m\u001b[0mwatch\u001b[0m\u001b[0;34m(\u001b[0m\u001b[0minterpolated_img\u001b[0m\u001b[0;34m)\u001b[0m\u001b[0;34m\u001b[0m\u001b[0;34m\u001b[0m\u001b[0m\n\u001b[1;32m     12\u001b[0m             \u001b[0minterpolated_out\u001b[0m \u001b[0;34m=\u001b[0m \u001b[0mnet_d\u001b[0m\u001b[0;34m(\u001b[0m\u001b[0;34m[\u001b[0m\u001b[0minterpolated_img\u001b[0m\u001b[0;34m,\u001b[0m \u001b[0mlabel\u001b[0m\u001b[0;34m]\u001b[0m\u001b[0;34m)\u001b[0m\u001b[0;34m\u001b[0m\u001b[0;34m\u001b[0m\u001b[0m\n",
      "\u001b[0;32m~/.conda/envs/keras_gpu_env/lib/python3.8/site-packages/tensorflow/python/ops/math_ops.py\u001b[0m in \u001b[0;36mbinary_op_wrapper\u001b[0;34m(x, y)\u001b[0m\n\u001b[1;32m    985\u001b[0m       \u001b[0;32melif\u001b[0m \u001b[0;32mnot\u001b[0m \u001b[0misinstance\u001b[0m\u001b[0;34m(\u001b[0m\u001b[0my\u001b[0m\u001b[0;34m,\u001b[0m \u001b[0msparse_tensor\u001b[0m\u001b[0;34m.\u001b[0m\u001b[0mSparseTensor\u001b[0m\u001b[0;34m)\u001b[0m\u001b[0;34m:\u001b[0m\u001b[0;34m\u001b[0m\u001b[0;34m\u001b[0m\u001b[0m\n\u001b[1;32m    986\u001b[0m         \u001b[0;32mtry\u001b[0m\u001b[0;34m:\u001b[0m\u001b[0;34m\u001b[0m\u001b[0;34m\u001b[0m\u001b[0m\n\u001b[0;32m--> 987\u001b[0;31m           y = ops.convert_to_tensor_v2(\n\u001b[0m\u001b[1;32m    988\u001b[0m               y, dtype_hint=x.dtype.base_dtype, name=\"y\")\n\u001b[1;32m    989\u001b[0m         \u001b[0;32mexcept\u001b[0m \u001b[0mTypeError\u001b[0m\u001b[0;34m:\u001b[0m\u001b[0;34m\u001b[0m\u001b[0;34m\u001b[0m\u001b[0m\n",
      "\u001b[0;32m~/.conda/envs/keras_gpu_env/lib/python3.8/site-packages/tensorflow/python/framework/ops.py\u001b[0m in \u001b[0;36mconvert_to_tensor_v2\u001b[0;34m(value, dtype, dtype_hint, name)\u001b[0m\n\u001b[1;32m   1276\u001b[0m     \u001b[0mValueError\u001b[0m\u001b[0;34m:\u001b[0m \u001b[0mIf\u001b[0m \u001b[0mthe\u001b[0m\u001b[0;31m \u001b[0m\u001b[0;31m`\u001b[0m\u001b[0mvalue\u001b[0m\u001b[0;31m`\u001b[0m \u001b[0;32mis\u001b[0m \u001b[0ma\u001b[0m \u001b[0mtensor\u001b[0m \u001b[0;32mnot\u001b[0m \u001b[0mof\u001b[0m \u001b[0mgiven\u001b[0m\u001b[0;31m \u001b[0m\u001b[0;31m`\u001b[0m\u001b[0mdtype\u001b[0m\u001b[0;31m`\u001b[0m \u001b[0;32min\u001b[0m \u001b[0mgraph\u001b[0m \u001b[0mmode\u001b[0m\u001b[0;34m.\u001b[0m\u001b[0;34m\u001b[0m\u001b[0;34m\u001b[0m\u001b[0m\n\u001b[1;32m   1277\u001b[0m   \"\"\"\n\u001b[0;32m-> 1278\u001b[0;31m   return convert_to_tensor(\n\u001b[0m\u001b[1;32m   1279\u001b[0m       \u001b[0mvalue\u001b[0m\u001b[0;34m=\u001b[0m\u001b[0mvalue\u001b[0m\u001b[0;34m,\u001b[0m\u001b[0;34m\u001b[0m\u001b[0;34m\u001b[0m\u001b[0m\n\u001b[1;32m   1280\u001b[0m       \u001b[0mdtype\u001b[0m\u001b[0;34m=\u001b[0m\u001b[0mdtype\u001b[0m\u001b[0;34m,\u001b[0m\u001b[0;34m\u001b[0m\u001b[0;34m\u001b[0m\u001b[0m\n",
      "\u001b[0;32m~/.conda/envs/keras_gpu_env/lib/python3.8/site-packages/tensorflow/python/framework/ops.py\u001b[0m in \u001b[0;36mconvert_to_tensor\u001b[0;34m(value, dtype, name, as_ref, preferred_dtype, dtype_hint, ctx, accepted_result_types)\u001b[0m\n\u001b[1;32m   1326\u001b[0m     \u001b[0;32mif\u001b[0m \u001b[0mdtype\u001b[0m \u001b[0;32mis\u001b[0m \u001b[0;32mNone\u001b[0m \u001b[0;32mand\u001b[0m \u001b[0mpreferred_dtype\u001b[0m \u001b[0;32mis\u001b[0m \u001b[0;32mnot\u001b[0m \u001b[0;32mNone\u001b[0m\u001b[0;34m:\u001b[0m\u001b[0;34m\u001b[0m\u001b[0;34m\u001b[0m\u001b[0m\n\u001b[1;32m   1327\u001b[0m       \u001b[0;32mtry\u001b[0m\u001b[0;34m:\u001b[0m\u001b[0;34m\u001b[0m\u001b[0;34m\u001b[0m\u001b[0m\n\u001b[0;32m-> 1328\u001b[0;31m         ret = conversion_func(\n\u001b[0m\u001b[1;32m   1329\u001b[0m             value, dtype=preferred_dtype, name=name, as_ref=as_ref)\n\u001b[1;32m   1330\u001b[0m       \u001b[0;32mexcept\u001b[0m \u001b[0;34m(\u001b[0m\u001b[0mTypeError\u001b[0m\u001b[0;34m,\u001b[0m \u001b[0mValueError\u001b[0m\u001b[0;34m)\u001b[0m\u001b[0;34m:\u001b[0m\u001b[0;34m\u001b[0m\u001b[0;34m\u001b[0m\u001b[0m\n",
      "\u001b[0;32m~/.conda/envs/keras_gpu_env/lib/python3.8/site-packages/tensorflow/python/framework/tensor_conversion_registry.py\u001b[0m in \u001b[0;36m_default_conversion_function\u001b[0;34m(***failed resolving arguments***)\u001b[0m\n\u001b[1;32m     50\u001b[0m \u001b[0;32mdef\u001b[0m \u001b[0m_default_conversion_function\u001b[0m\u001b[0;34m(\u001b[0m\u001b[0mvalue\u001b[0m\u001b[0;34m,\u001b[0m \u001b[0mdtype\u001b[0m\u001b[0;34m,\u001b[0m \u001b[0mname\u001b[0m\u001b[0;34m,\u001b[0m \u001b[0mas_ref\u001b[0m\u001b[0;34m)\u001b[0m\u001b[0;34m:\u001b[0m\u001b[0;34m\u001b[0m\u001b[0;34m\u001b[0m\u001b[0m\n\u001b[1;32m     51\u001b[0m   \u001b[0;32mdel\u001b[0m \u001b[0mas_ref\u001b[0m  \u001b[0;31m# Unused.\u001b[0m\u001b[0;34m\u001b[0m\u001b[0;34m\u001b[0m\u001b[0m\n\u001b[0;32m---> 52\u001b[0;31m   \u001b[0;32mreturn\u001b[0m \u001b[0mconstant_op\u001b[0m\u001b[0;34m.\u001b[0m\u001b[0mconstant\u001b[0m\u001b[0;34m(\u001b[0m\u001b[0mvalue\u001b[0m\u001b[0;34m,\u001b[0m \u001b[0mdtype\u001b[0m\u001b[0;34m,\u001b[0m \u001b[0mname\u001b[0m\u001b[0;34m=\u001b[0m\u001b[0mname\u001b[0m\u001b[0;34m)\u001b[0m\u001b[0;34m\u001b[0m\u001b[0;34m\u001b[0m\u001b[0m\n\u001b[0m\u001b[1;32m     53\u001b[0m \u001b[0;34m\u001b[0m\u001b[0m\n\u001b[1;32m     54\u001b[0m \u001b[0;34m\u001b[0m\u001b[0m\n",
      "\u001b[0;32m~/.conda/envs/keras_gpu_env/lib/python3.8/site-packages/tensorflow/python/framework/constant_op.py\u001b[0m in \u001b[0;36mconstant\u001b[0;34m(value, dtype, shape, name)\u001b[0m\n\u001b[1;32m    259\u001b[0m     \u001b[0mValueError\u001b[0m\u001b[0;34m:\u001b[0m \u001b[0;32mif\u001b[0m \u001b[0mcalled\u001b[0m \u001b[0mon\u001b[0m \u001b[0ma\u001b[0m \u001b[0msymbolic\u001b[0m \u001b[0mtensor\u001b[0m\u001b[0;34m.\u001b[0m\u001b[0;34m\u001b[0m\u001b[0;34m\u001b[0m\u001b[0m\n\u001b[1;32m    260\u001b[0m   \"\"\"\n\u001b[0;32m--> 261\u001b[0;31m   return _constant_impl(value, dtype, shape, name, verify_shape=False,\n\u001b[0m\u001b[1;32m    262\u001b[0m                         allow_broadcast=True)\n\u001b[1;32m    263\u001b[0m \u001b[0;34m\u001b[0m\u001b[0m\n",
      "\u001b[0;32m~/.conda/envs/keras_gpu_env/lib/python3.8/site-packages/tensorflow/python/framework/constant_op.py\u001b[0m in \u001b[0;36m_constant_impl\u001b[0;34m(value, dtype, shape, name, verify_shape, allow_broadcast)\u001b[0m\n\u001b[1;32m    268\u001b[0m   \u001b[0mctx\u001b[0m \u001b[0;34m=\u001b[0m \u001b[0mcontext\u001b[0m\u001b[0;34m.\u001b[0m\u001b[0mcontext\u001b[0m\u001b[0;34m(\u001b[0m\u001b[0;34m)\u001b[0m\u001b[0;34m\u001b[0m\u001b[0;34m\u001b[0m\u001b[0m\n\u001b[1;32m    269\u001b[0m   \u001b[0;32mif\u001b[0m \u001b[0mctx\u001b[0m\u001b[0;34m.\u001b[0m\u001b[0mexecuting_eagerly\u001b[0m\u001b[0;34m(\u001b[0m\u001b[0;34m)\u001b[0m\u001b[0;34m:\u001b[0m\u001b[0;34m\u001b[0m\u001b[0;34m\u001b[0m\u001b[0m\n\u001b[0;32m--> 270\u001b[0;31m     \u001b[0mt\u001b[0m \u001b[0;34m=\u001b[0m \u001b[0mconvert_to_eager_tensor\u001b[0m\u001b[0;34m(\u001b[0m\u001b[0mvalue\u001b[0m\u001b[0;34m,\u001b[0m \u001b[0mctx\u001b[0m\u001b[0;34m,\u001b[0m \u001b[0mdtype\u001b[0m\u001b[0;34m)\u001b[0m\u001b[0;34m\u001b[0m\u001b[0;34m\u001b[0m\u001b[0m\n\u001b[0m\u001b[1;32m    271\u001b[0m     \u001b[0;32mif\u001b[0m \u001b[0mshape\u001b[0m \u001b[0;32mis\u001b[0m \u001b[0;32mNone\u001b[0m\u001b[0;34m:\u001b[0m\u001b[0;34m\u001b[0m\u001b[0;34m\u001b[0m\u001b[0m\n\u001b[1;32m    272\u001b[0m       \u001b[0;32mreturn\u001b[0m \u001b[0mt\u001b[0m\u001b[0;34m\u001b[0m\u001b[0;34m\u001b[0m\u001b[0m\n",
      "\u001b[0;32m~/.conda/envs/keras_gpu_env/lib/python3.8/site-packages/tensorflow/python/framework/constant_op.py\u001b[0m in \u001b[0;36mconvert_to_eager_tensor\u001b[0;34m(value, ctx, dtype)\u001b[0m\n\u001b[1;32m     94\u001b[0m       \u001b[0mdtype\u001b[0m \u001b[0;34m=\u001b[0m \u001b[0mdtypes\u001b[0m\u001b[0;34m.\u001b[0m\u001b[0mas_dtype\u001b[0m\u001b[0;34m(\u001b[0m\u001b[0mdtype\u001b[0m\u001b[0;34m)\u001b[0m\u001b[0;34m.\u001b[0m\u001b[0mas_datatype_enum\u001b[0m\u001b[0;34m\u001b[0m\u001b[0;34m\u001b[0m\u001b[0m\n\u001b[1;32m     95\u001b[0m   \u001b[0mctx\u001b[0m\u001b[0;34m.\u001b[0m\u001b[0mensure_initialized\u001b[0m\u001b[0;34m(\u001b[0m\u001b[0;34m)\u001b[0m\u001b[0;34m\u001b[0m\u001b[0;34m\u001b[0m\u001b[0m\n\u001b[0;32m---> 96\u001b[0;31m   \u001b[0;32mreturn\u001b[0m \u001b[0mops\u001b[0m\u001b[0;34m.\u001b[0m\u001b[0mEagerTensor\u001b[0m\u001b[0;34m(\u001b[0m\u001b[0mvalue\u001b[0m\u001b[0;34m,\u001b[0m \u001b[0mctx\u001b[0m\u001b[0;34m.\u001b[0m\u001b[0mdevice_name\u001b[0m\u001b[0;34m,\u001b[0m \u001b[0mdtype\u001b[0m\u001b[0;34m)\u001b[0m\u001b[0;34m\u001b[0m\u001b[0;34m\u001b[0m\u001b[0m\n\u001b[0m\u001b[1;32m     97\u001b[0m \u001b[0;34m\u001b[0m\u001b[0m\n\u001b[1;32m     98\u001b[0m \u001b[0;34m\u001b[0m\u001b[0m\n",
      "\u001b[0;31mKeyboardInterrupt\u001b[0m: "
     ]
    }
   ],
   "source": [
    "epochs = 400\n",
    "num_sample = train_X_split.shape[0]\n",
    "batch_size = 128\n",
    "num_minibatch = num_sample // batch_size + 1\n",
    "g_loss_history = []\n",
    "\n",
    "    \n",
    "for i in range(epochs):\n",
    "    shuffled_idx = np.random.randint(0, train_X_split.shape[0],train_X_split.shape[0])\n",
    "    for j in range(num_minibatch):\n",
    "        minibatch_idx = shuffled_idx[j*batch_size:min((j+1)*batch_size, num_sample)]\n",
    "        imgs = train_X_split[idx]\n",
    "        labels = train_Y_split[idx]\n",
    "        noise = np.random.normal(0, 1, (batch_size, latent_dim))\n",
    "        err_d_real, err_d_fake, loss_total = d_training(imgs, noise, labels)\n",
    "        err_g = g_training(noise, labels)\n",
    "\n",
    "    \n",
    "    if i%10 == 0:\n",
    "        print (\"%d [D loss : %f] [G loss: %f]\" % (i, loss_total, err_g))\n",
    "        g_loss_history.append(err_g)\n",
    "        r = 2\n",
    "        c = 2\n",
    "        noise_g = np.random.normal(0, 1, (1, 100))\n",
    "        for j in range(2):\n",
    "            noise_c = np.copy(noise_g)\n",
    "            noise_g = np.concatenate((noise_g, noise_c), axis = 0)\n",
    "        sampled_labels = np.asarray(([0.1,0.4,0.8,1.1]))\n",
    "        fake_imgs = net_g.predict([noise_g, sampled_labels])\n",
    "        fake_imgs = fake_imgs * 0.5 + 0.5\n",
    "        fig, axs = plt.subplots(r, c)\n",
    "        cnt = 0\n",
    "        for k in range(r):\n",
    "            for l in range(c):\n",
    "                axs[j,k].imshow(fake_imgs[cnt,:,:,0], cmap='gray')\n",
    "                axs[j,k].axis('off')\n",
    "                cnt += 1\n",
    "        fig.savefig(\"saved_images/%d.png\" % i)\n",
    "        plt.close()\n",
    "        \n",
    "net_g.save('saved_models/idealized_generator_0527')\n",
    "net_d.save('saved_models/idealized_discriminator_0527')"
   ]
  },
  {
   "cell_type": "code",
   "execution_count": 20,
   "metadata": {},
   "outputs": [
    {
     "data": {
      "text/plain": [
       "(0,)"
      ]
     },
     "execution_count": 20,
     "metadata": {},
     "output_type": "execute_result"
    }
   ],
   "source": [
    "los_hist = np.asarray(g_loss_history)\n",
    "los_hist.shape"
   ]
  },
  {
   "cell_type": "code",
   "execution_count": null,
   "metadata": {},
   "outputs": [],
   "source": []
  }
 ],
 "metadata": {
  "kernelspec": {
   "display_name": "KerasGPU",
   "language": "python",
   "name": "keras_gpu_env"
  },
  "language_info": {
   "codemirror_mode": {
    "name": "ipython",
    "version": 3
   },
   "file_extension": ".py",
   "mimetype": "text/x-python",
   "name": "python",
   "nbconvert_exporter": "python",
   "pygments_lexer": "ipython3",
   "version": "3.8.5"
  }
 },
 "nbformat": 4,
 "nbformat_minor": 4
}
